{
  "cells": [
    {
      "cell_type": "markdown",
      "metadata": {
        "id": "Q5NLVrM3bSXD"
      },
      "source": [
        "# Project proposal\n",
        "\n",
        "---\n",
        "\n",
        "Group name:\n",
        "\n",
        "---\n"
      ]
    },
    {
      "cell_type": "markdown",
      "metadata": {
        "id": "kzwelmWVbSXE"
      },
      "source": [
        "## Introduction\n",
        "\n",
        "The introduction section includes\n",
        "\n",
        "-   an introduction to the subject matter you're investigating\n",
        "-   the motivation for your research question (citing any relevant literature)\n",
        "-   the general research question you wish to explore\n",
        "-   your hypotheses regarding the research question of interest."
      ]
    },
    {
      "cell_type": "markdown",
      "metadata": {
        "id": "HmEHtpyibSXE"
      },
      "source": [
        "\n",
        "## Data description\n",
        "\n",
        "In this section, you will describe the data set you wish to explore. This includes\n",
        "\n",
        "-   description of the observations in the data set,\n",
        "-   description of how the data was originally collected (not how you found the data but how the original curator of the data collected it)."
      ]
    },
    {
      "cell_type": "markdown",
      "metadata": {
        "id": "c4rc1RytbSXF"
      },
      "source": [
        "\n",
        "## Analysis approach\n",
        "\n",
        "In this section, you will provide a brief overview of your analysis approach. This includes:\n",
        "\n",
        "-   Description of the response variable.\n",
        "-   Visualization and summary statistics for the response variable.\n",
        "-   List of variables that will be considered as predictors\n",
        "-   Your model type (what kind of model(s) will you use ... e.g. linear regression)"
      ]
    },
    {
      "cell_type": "markdown",
      "metadata": {
        "id": "m6WTTAytbSXF"
      },
      "source": [
        "## Data dictionary\n",
        "\n",
        "*Create a data dictionary for all the variables in your data set. You may fill out the data description table or create your own table with Pandas:*\n",
        "\n",
        "<br>\n",
        "\n",
        "\n",
        "| Name  |   Description\t| Role   \t| Type   \t|  Format \t|\n",
        "|---\t|---\t        |---    \t|---\t    |---\t|\n",
        "|   \t|   \t        |   \t    |   \t    |   \t|\n",
        "|   \t|   \t        |   \t    |   \t    |   \t|\n",
        "|   \t|   \t        |   \t    |   \t    |   \t|\n",
        "\n",
        "\n",
        "<br>\n",
        "\n",
        "- `Role`: response, predictor, ID (ID columns are not used in a model but can help to better understand the data)\n",
        "\n",
        "- `Type`: nominal, ordinal or numeric\n",
        "\n",
        "- `Format`: int, float, string, category, date or object"
      ]
    },
    {
      "cell_type": "markdown",
      "source": [
        "# Overiew of data"
      ],
      "metadata": {
        "id": "khuAsEDfbuAc"
      }
    },
    {
      "cell_type": "markdown",
      "source": [
        "Import data from GitHub"
      ],
      "metadata": {
        "id": "uABYDbxScA3D"
      }
    },
    {
      "cell_type": "code",
      "source": [
        "#| code-line-numbers: '|1|3|5|'\n",
        "URL = \"https://raw.githubusercontent.com/paulovfc/supermarket_get/master/dataset_gruppe_A_csv.csv\"\n",
        "\n",
        "df_github = pd.read_csv(URL, sep=\";\", decimal='.', encoding_errors='ignore')\n",
        "\n",
        "df_github.head()"
      ],
      "metadata": {
        "colab": {
          "base_uri": "https://localhost:8080/",
          "height": 395
        },
        "id": "G6i1KSc2cWh4",
        "outputId": "706591fd-ae05-4096-95b2-a3f94dac8c66"
      },
      "execution_count": 112,
      "outputs": [
        {
          "output_type": "execute_result",
          "data": {
            "text/plain": [
              "  General.EstateTypeKey General.ReferenceNumber General.DistributionTypeKey  \\\n",
              "0               WOHNUNG             001/G1/E114                    ZUM_KAUF   \n",
              "1               WOHNUNG                     NaN                    ZUM_KAUF   \n",
              "2               WOHNUNG                     NaN                    ZUM_KAUF   \n",
              "3               WOHNUNG                  X4_301                    ZUM_KAUF   \n",
              "4               WOHNUNG                  X4_204                    ZUM_KAUF   \n",
              "\n",
              "   General.ConstructionYear  General.LivingSpace  Tealium.object_locationid  \\\n",
              "0                     20230                24707                     493480   \n",
              "1                     19000                  690                     493430   \n",
              "2                     19720                 6946                     493465   \n",
              "3                     20230                 8281                     493524   \n",
              "4                     20230                 7552                     493524   \n",
              "\n",
              "   Tealium.object_address_is_visible  Tealium.object_zip  \\\n",
              "0                               True               90482   \n",
              "1                              False               90461   \n",
              "2                              False               90473   \n",
              "3                               True               90429   \n",
              "4                               True               90429   \n",
              "\n",
              "  Tealium.object_currency                            Tealium.object_features  \\\n",
              "0                     EUR  ['Neubau', 'WANNE', 'gaestewc', 'Bad/WC getren...   \n",
              "1                     EUR  ['Dach ausgebaut', 'WANNE', 'gaestewc', 'Bad/W...   \n",
              "2                     EUR  ['WANNE', 'GEPFLEGT', 'FERN', 'LAMINAT', 'FLIE...   \n",
              "3                     EUR  ['Neubau', 'DUSCHE', 'Personenaufzug', 'ERSTBE...   \n",
              "4                     EUR  ['Neubau', 'DUSCHE', 'Personenaufzug', 'Erdges...   \n",
              "\n",
              "   ...      USAGE  SUITABILITY            CONDITION  HOUSECONDITION  \\\n",
              "0  ...        NaN          NaN            Erstbezug          Neubau   \n",
              "1  ...  vermietet  WG-geeignet  renoviert / saniert             NaN   \n",
              "2  ...  vermietet          NaN             gepflegt             NaN   \n",
              "3  ...        NaN          NaN            Erstbezug          Neubau   \n",
              "4  ...        NaN          NaN            Erstbezug          Neubau   \n",
              "\n",
              "   PARKINGSLOT              ENERGY BUILDINGTYPE         HEATING  \\\n",
              "0   Tiefgarage                 NaN          NaN  Fubodenheizung   \n",
              "1          NaN                 Gas          NaN   Etagenheizung   \n",
              "2   Tiefgarage            Fernwrme          NaN             NaN   \n",
              "3          NaN  Blockheizkraftwerk       KfW 55  Fubodenheizung   \n",
              "4          NaN  Blockheizkraftwerk       KfW 55  Fubodenheizung   \n",
              "\n",
              "         ELEVATOR  EQUIPMENTS  \n",
              "0  Personenaufzug         NaN  \n",
              "1             NaN         NaN  \n",
              "2             NaN         NaN  \n",
              "3  Personenaufzug         NaN  \n",
              "4  Personenaufzug         NaN  \n",
              "\n",
              "[5 rows x 50 columns]"
            ],
            "text/html": [
              "\n",
              "  <div id=\"df-b4b54169-3be3-4c63-8abd-cfc0b211a115\" class=\"colab-df-container\">\n",
              "    <div>\n",
              "<style scoped>\n",
              "    .dataframe tbody tr th:only-of-type {\n",
              "        vertical-align: middle;\n",
              "    }\n",
              "\n",
              "    .dataframe tbody tr th {\n",
              "        vertical-align: top;\n",
              "    }\n",
              "\n",
              "    .dataframe thead th {\n",
              "        text-align: right;\n",
              "    }\n",
              "</style>\n",
              "<table border=\"1\" class=\"dataframe\">\n",
              "  <thead>\n",
              "    <tr style=\"text-align: right;\">\n",
              "      <th></th>\n",
              "      <th>General.EstateTypeKey</th>\n",
              "      <th>General.ReferenceNumber</th>\n",
              "      <th>General.DistributionTypeKey</th>\n",
              "      <th>General.ConstructionYear</th>\n",
              "      <th>General.LivingSpace</th>\n",
              "      <th>Tealium.object_locationid</th>\n",
              "      <th>Tealium.object_address_is_visible</th>\n",
              "      <th>Tealium.object_zip</th>\n",
              "      <th>Tealium.object_currency</th>\n",
              "      <th>Tealium.object_features</th>\n",
              "      <th>...</th>\n",
              "      <th>USAGE</th>\n",
              "      <th>SUITABILITY</th>\n",
              "      <th>CONDITION</th>\n",
              "      <th>HOUSECONDITION</th>\n",
              "      <th>PARKINGSLOT</th>\n",
              "      <th>ENERGY</th>\n",
              "      <th>BUILDINGTYPE</th>\n",
              "      <th>HEATING</th>\n",
              "      <th>ELEVATOR</th>\n",
              "      <th>EQUIPMENTS</th>\n",
              "    </tr>\n",
              "  </thead>\n",
              "  <tbody>\n",
              "    <tr>\n",
              "      <th>0</th>\n",
              "      <td>WOHNUNG</td>\n",
              "      <td>001/G1/E114</td>\n",
              "      <td>ZUM_KAUF</td>\n",
              "      <td>20230</td>\n",
              "      <td>24707</td>\n",
              "      <td>493480</td>\n",
              "      <td>True</td>\n",
              "      <td>90482</td>\n",
              "      <td>EUR</td>\n",
              "      <td>['Neubau', 'WANNE', 'gaestewc', 'Bad/WC getren...</td>\n",
              "      <td>...</td>\n",
              "      <td>NaN</td>\n",
              "      <td>NaN</td>\n",
              "      <td>Erstbezug</td>\n",
              "      <td>Neubau</td>\n",
              "      <td>Tiefgarage</td>\n",
              "      <td>NaN</td>\n",
              "      <td>NaN</td>\n",
              "      <td>Fubodenheizung</td>\n",
              "      <td>Personenaufzug</td>\n",
              "      <td>NaN</td>\n",
              "    </tr>\n",
              "    <tr>\n",
              "      <th>1</th>\n",
              "      <td>WOHNUNG</td>\n",
              "      <td>NaN</td>\n",
              "      <td>ZUM_KAUF</td>\n",
              "      <td>19000</td>\n",
              "      <td>690</td>\n",
              "      <td>493430</td>\n",
              "      <td>False</td>\n",
              "      <td>90461</td>\n",
              "      <td>EUR</td>\n",
              "      <td>['Dach ausgebaut', 'WANNE', 'gaestewc', 'Bad/W...</td>\n",
              "      <td>...</td>\n",
              "      <td>vermietet</td>\n",
              "      <td>WG-geeignet</td>\n",
              "      <td>renoviert / saniert</td>\n",
              "      <td>NaN</td>\n",
              "      <td>NaN</td>\n",
              "      <td>Gas</td>\n",
              "      <td>NaN</td>\n",
              "      <td>Etagenheizung</td>\n",
              "      <td>NaN</td>\n",
              "      <td>NaN</td>\n",
              "    </tr>\n",
              "    <tr>\n",
              "      <th>2</th>\n",
              "      <td>WOHNUNG</td>\n",
              "      <td>NaN</td>\n",
              "      <td>ZUM_KAUF</td>\n",
              "      <td>19720</td>\n",
              "      <td>6946</td>\n",
              "      <td>493465</td>\n",
              "      <td>False</td>\n",
              "      <td>90473</td>\n",
              "      <td>EUR</td>\n",
              "      <td>['WANNE', 'GEPFLEGT', 'FERN', 'LAMINAT', 'FLIE...</td>\n",
              "      <td>...</td>\n",
              "      <td>vermietet</td>\n",
              "      <td>NaN</td>\n",
              "      <td>gepflegt</td>\n",
              "      <td>NaN</td>\n",
              "      <td>Tiefgarage</td>\n",
              "      <td>Fernwrme</td>\n",
              "      <td>NaN</td>\n",
              "      <td>NaN</td>\n",
              "      <td>NaN</td>\n",
              "      <td>NaN</td>\n",
              "    </tr>\n",
              "    <tr>\n",
              "      <th>3</th>\n",
              "      <td>WOHNUNG</td>\n",
              "      <td>X4_301</td>\n",
              "      <td>ZUM_KAUF</td>\n",
              "      <td>20230</td>\n",
              "      <td>8281</td>\n",
              "      <td>493524</td>\n",
              "      <td>True</td>\n",
              "      <td>90429</td>\n",
              "      <td>EUR</td>\n",
              "      <td>['Neubau', 'DUSCHE', 'Personenaufzug', 'ERSTBE...</td>\n",
              "      <td>...</td>\n",
              "      <td>NaN</td>\n",
              "      <td>NaN</td>\n",
              "      <td>Erstbezug</td>\n",
              "      <td>Neubau</td>\n",
              "      <td>NaN</td>\n",
              "      <td>Blockheizkraftwerk</td>\n",
              "      <td>KfW 55</td>\n",
              "      <td>Fubodenheizung</td>\n",
              "      <td>Personenaufzug</td>\n",
              "      <td>NaN</td>\n",
              "    </tr>\n",
              "    <tr>\n",
              "      <th>4</th>\n",
              "      <td>WOHNUNG</td>\n",
              "      <td>X4_204</td>\n",
              "      <td>ZUM_KAUF</td>\n",
              "      <td>20230</td>\n",
              "      <td>7552</td>\n",
              "      <td>493524</td>\n",
              "      <td>True</td>\n",
              "      <td>90429</td>\n",
              "      <td>EUR</td>\n",
              "      <td>['Neubau', 'DUSCHE', 'Personenaufzug', 'Erdges...</td>\n",
              "      <td>...</td>\n",
              "      <td>NaN</td>\n",
              "      <td>NaN</td>\n",
              "      <td>Erstbezug</td>\n",
              "      <td>Neubau</td>\n",
              "      <td>NaN</td>\n",
              "      <td>Blockheizkraftwerk</td>\n",
              "      <td>KfW 55</td>\n",
              "      <td>Fubodenheizung</td>\n",
              "      <td>Personenaufzug</td>\n",
              "      <td>NaN</td>\n",
              "    </tr>\n",
              "  </tbody>\n",
              "</table>\n",
              "<p>5 rows × 50 columns</p>\n",
              "</div>\n",
              "    <div class=\"colab-df-buttons\">\n",
              "\n",
              "  <div class=\"colab-df-container\">\n",
              "    <button class=\"colab-df-convert\" onclick=\"convertToInteractive('df-b4b54169-3be3-4c63-8abd-cfc0b211a115')\"\n",
              "            title=\"Convert this dataframe to an interactive table.\"\n",
              "            style=\"display:none;\">\n",
              "\n",
              "  <svg xmlns=\"http://www.w3.org/2000/svg\" height=\"24px\" viewBox=\"0 -960 960 960\">\n",
              "    <path d=\"M120-120v-720h720v720H120Zm60-500h600v-160H180v160Zm220 220h160v-160H400v160Zm0 220h160v-160H400v160ZM180-400h160v-160H180v160Zm440 0h160v-160H620v160ZM180-180h160v-160H180v160Zm440 0h160v-160H620v160Z\"/>\n",
              "  </svg>\n",
              "    </button>\n",
              "\n",
              "  <style>\n",
              "    .colab-df-container {\n",
              "      display:flex;\n",
              "      gap: 12px;\n",
              "    }\n",
              "\n",
              "    .colab-df-convert {\n",
              "      background-color: #E8F0FE;\n",
              "      border: none;\n",
              "      border-radius: 50%;\n",
              "      cursor: pointer;\n",
              "      display: none;\n",
              "      fill: #1967D2;\n",
              "      height: 32px;\n",
              "      padding: 0 0 0 0;\n",
              "      width: 32px;\n",
              "    }\n",
              "\n",
              "    .colab-df-convert:hover {\n",
              "      background-color: #E2EBFA;\n",
              "      box-shadow: 0px 1px 2px rgba(60, 64, 67, 0.3), 0px 1px 3px 1px rgba(60, 64, 67, 0.15);\n",
              "      fill: #174EA6;\n",
              "    }\n",
              "\n",
              "    .colab-df-buttons div {\n",
              "      margin-bottom: 4px;\n",
              "    }\n",
              "\n",
              "    [theme=dark] .colab-df-convert {\n",
              "      background-color: #3B4455;\n",
              "      fill: #D2E3FC;\n",
              "    }\n",
              "\n",
              "    [theme=dark] .colab-df-convert:hover {\n",
              "      background-color: #434B5C;\n",
              "      box-shadow: 0px 1px 3px 1px rgba(0, 0, 0, 0.15);\n",
              "      filter: drop-shadow(0px 1px 2px rgba(0, 0, 0, 0.3));\n",
              "      fill: #FFFFFF;\n",
              "    }\n",
              "  </style>\n",
              "\n",
              "    <script>\n",
              "      const buttonEl =\n",
              "        document.querySelector('#df-b4b54169-3be3-4c63-8abd-cfc0b211a115 button.colab-df-convert');\n",
              "      buttonEl.style.display =\n",
              "        google.colab.kernel.accessAllowed ? 'block' : 'none';\n",
              "\n",
              "      async function convertToInteractive(key) {\n",
              "        const element = document.querySelector('#df-b4b54169-3be3-4c63-8abd-cfc0b211a115');\n",
              "        const dataTable =\n",
              "          await google.colab.kernel.invokeFunction('convertToInteractive',\n",
              "                                                    [key], {});\n",
              "        if (!dataTable) return;\n",
              "\n",
              "        const docLinkHtml = 'Like what you see? Visit the ' +\n",
              "          '<a target=\"_blank\" href=https://colab.research.google.com/notebooks/data_table.ipynb>data table notebook</a>'\n",
              "          + ' to learn more about interactive tables.';\n",
              "        element.innerHTML = '';\n",
              "        dataTable['output_type'] = 'display_data';\n",
              "        await google.colab.output.renderOutput(dataTable, element);\n",
              "        const docLink = document.createElement('div');\n",
              "        docLink.innerHTML = docLinkHtml;\n",
              "        element.appendChild(docLink);\n",
              "      }\n",
              "    </script>\n",
              "  </div>\n",
              "\n",
              "\n",
              "<div id=\"df-dde917fd-45ff-440b-a40f-4e097d7b4f71\">\n",
              "  <button class=\"colab-df-quickchart\" onclick=\"quickchart('df-dde917fd-45ff-440b-a40f-4e097d7b4f71')\"\n",
              "            title=\"Suggest charts\"\n",
              "            style=\"display:none;\">\n",
              "\n",
              "<svg xmlns=\"http://www.w3.org/2000/svg\" height=\"24px\"viewBox=\"0 0 24 24\"\n",
              "     width=\"24px\">\n",
              "    <g>\n",
              "        <path d=\"M19 3H5c-1.1 0-2 .9-2 2v14c0 1.1.9 2 2 2h14c1.1 0 2-.9 2-2V5c0-1.1-.9-2-2-2zM9 17H7v-7h2v7zm4 0h-2V7h2v10zm4 0h-2v-4h2v4z\"/>\n",
              "    </g>\n",
              "</svg>\n",
              "  </button>\n",
              "\n",
              "<style>\n",
              "  .colab-df-quickchart {\n",
              "      --bg-color: #E8F0FE;\n",
              "      --fill-color: #1967D2;\n",
              "      --hover-bg-color: #E2EBFA;\n",
              "      --hover-fill-color: #174EA6;\n",
              "      --disabled-fill-color: #AAA;\n",
              "      --disabled-bg-color: #DDD;\n",
              "  }\n",
              "\n",
              "  [theme=dark] .colab-df-quickchart {\n",
              "      --bg-color: #3B4455;\n",
              "      --fill-color: #D2E3FC;\n",
              "      --hover-bg-color: #434B5C;\n",
              "      --hover-fill-color: #FFFFFF;\n",
              "      --disabled-bg-color: #3B4455;\n",
              "      --disabled-fill-color: #666;\n",
              "  }\n",
              "\n",
              "  .colab-df-quickchart {\n",
              "    background-color: var(--bg-color);\n",
              "    border: none;\n",
              "    border-radius: 50%;\n",
              "    cursor: pointer;\n",
              "    display: none;\n",
              "    fill: var(--fill-color);\n",
              "    height: 32px;\n",
              "    padding: 0;\n",
              "    width: 32px;\n",
              "  }\n",
              "\n",
              "  .colab-df-quickchart:hover {\n",
              "    background-color: var(--hover-bg-color);\n",
              "    box-shadow: 0 1px 2px rgba(60, 64, 67, 0.3), 0 1px 3px 1px rgba(60, 64, 67, 0.15);\n",
              "    fill: var(--button-hover-fill-color);\n",
              "  }\n",
              "\n",
              "  .colab-df-quickchart-complete:disabled,\n",
              "  .colab-df-quickchart-complete:disabled:hover {\n",
              "    background-color: var(--disabled-bg-color);\n",
              "    fill: var(--disabled-fill-color);\n",
              "    box-shadow: none;\n",
              "  }\n",
              "\n",
              "  .colab-df-spinner {\n",
              "    border: 2px solid var(--fill-color);\n",
              "    border-color: transparent;\n",
              "    border-bottom-color: var(--fill-color);\n",
              "    animation:\n",
              "      spin 1s steps(1) infinite;\n",
              "  }\n",
              "\n",
              "  @keyframes spin {\n",
              "    0% {\n",
              "      border-color: transparent;\n",
              "      border-bottom-color: var(--fill-color);\n",
              "      border-left-color: var(--fill-color);\n",
              "    }\n",
              "    20% {\n",
              "      border-color: transparent;\n",
              "      border-left-color: var(--fill-color);\n",
              "      border-top-color: var(--fill-color);\n",
              "    }\n",
              "    30% {\n",
              "      border-color: transparent;\n",
              "      border-left-color: var(--fill-color);\n",
              "      border-top-color: var(--fill-color);\n",
              "      border-right-color: var(--fill-color);\n",
              "    }\n",
              "    40% {\n",
              "      border-color: transparent;\n",
              "      border-right-color: var(--fill-color);\n",
              "      border-top-color: var(--fill-color);\n",
              "    }\n",
              "    60% {\n",
              "      border-color: transparent;\n",
              "      border-right-color: var(--fill-color);\n",
              "    }\n",
              "    80% {\n",
              "      border-color: transparent;\n",
              "      border-right-color: var(--fill-color);\n",
              "      border-bottom-color: var(--fill-color);\n",
              "    }\n",
              "    90% {\n",
              "      border-color: transparent;\n",
              "      border-bottom-color: var(--fill-color);\n",
              "    }\n",
              "  }\n",
              "</style>\n",
              "\n",
              "  <script>\n",
              "    async function quickchart(key) {\n",
              "      const quickchartButtonEl =\n",
              "        document.querySelector('#' + key + ' button');\n",
              "      quickchartButtonEl.disabled = true;  // To prevent multiple clicks.\n",
              "      quickchartButtonEl.classList.add('colab-df-spinner');\n",
              "      try {\n",
              "        const charts = await google.colab.kernel.invokeFunction(\n",
              "            'suggestCharts', [key], {});\n",
              "      } catch (error) {\n",
              "        console.error('Error during call to suggestCharts:', error);\n",
              "      }\n",
              "      quickchartButtonEl.classList.remove('colab-df-spinner');\n",
              "      quickchartButtonEl.classList.add('colab-df-quickchart-complete');\n",
              "    }\n",
              "    (() => {\n",
              "      let quickchartButtonEl =\n",
              "        document.querySelector('#df-dde917fd-45ff-440b-a40f-4e097d7b4f71 button');\n",
              "      quickchartButtonEl.style.display =\n",
              "        google.colab.kernel.accessAllowed ? 'block' : 'none';\n",
              "    })();\n",
              "  </script>\n",
              "</div>\n",
              "    </div>\n",
              "  </div>\n"
            ]
          },
          "metadata": {},
          "execution_count": 112
        }
      ]
    },
    {
      "cell_type": "markdown",
      "source": [
        "Data overview"
      ],
      "metadata": {
        "id": "nu7J4eP0cEug"
      }
    },
    {
      "cell_type": "code",
      "source": [
        "df_github"
      ],
      "metadata": {
        "colab": {
          "base_uri": "https://localhost:8080/",
          "height": 704
        },
        "id": "wgenyw7zccI0",
        "outputId": "7ca7dcc8-8695-472f-d594-d2f4c7a382a7"
      },
      "execution_count": 79,
      "outputs": [
        {
          "output_type": "execute_result",
          "data": {
            "text/plain": [
              "    General.EstateTypeKey General.ReferenceNumber General.DistributionTypeKey  \\\n",
              "0                 WOHNUNG             001/G1/E114                    ZUM_KAUF   \n",
              "1                 WOHNUNG                     NaN                    ZUM_KAUF   \n",
              "2                 WOHNUNG                     NaN                    ZUM_KAUF   \n",
              "3                 WOHNUNG                  X4_301                    ZUM_KAUF   \n",
              "4                 WOHNUNG                  X4_204                    ZUM_KAUF   \n",
              "..                    ...                     ...                         ...   \n",
              "956               WOHNUNG             001/G1/E119                    ZUM_KAUF   \n",
              "957               WOHNUNG              001/G1/E72                    ZUM_KAUF   \n",
              "958               WOHNUNG                     NaN                    ZUM_KAUF   \n",
              "959               WOHNUNG                64415430                    ZUM_KAUF   \n",
              "960               WOHNUNG               001/G3/E4                    ZUM_KAUF   \n",
              "\n",
              "     General.ConstructionYear  General.LivingSpace  Tealium.object_locationid  \\\n",
              "0                       20230                24707                     493480   \n",
              "1                       19000                  690                     493430   \n",
              "2                       19720                 6946                     493465   \n",
              "3                       20230                 8281                     493524   \n",
              "4                       20230                 7552                     493524   \n",
              "..                        ...                  ...                        ...   \n",
              "956                     20230                11032                     493480   \n",
              "957                     20230                10311                     493480   \n",
              "958                     19650                  910                     493430   \n",
              "959                     19580                  340                     493479   \n",
              "960                     20230                 1172                     493480   \n",
              "\n",
              "     Tealium.object_address_is_visible  Tealium.object_zip  \\\n",
              "0                                 True               90482   \n",
              "1                                False               90461   \n",
              "2                                False               90473   \n",
              "3                                 True               90429   \n",
              "4                                 True               90429   \n",
              "..                                 ...                 ...   \n",
              "956                               True               90482   \n",
              "957                               True               90482   \n",
              "958                               True               90441   \n",
              "959                               True               90409   \n",
              "960                               True               90482   \n",
              "\n",
              "    Tealium.object_currency  \\\n",
              "0                       EUR   \n",
              "1                       EUR   \n",
              "2                       EUR   \n",
              "3                       EUR   \n",
              "4                       EUR   \n",
              "..                      ...   \n",
              "956                     EUR   \n",
              "957                     EUR   \n",
              "958                     EUR   \n",
              "959                     EUR   \n",
              "960                     EUR   \n",
              "\n",
              "                               Tealium.object_features  ...      USAGE  \\\n",
              "0    ['Neubau', 'WANNE', 'gaestewc', 'Bad/WC getren...  ...        NaN   \n",
              "1    ['Dach ausgebaut', 'WANNE', 'gaestewc', 'Bad/W...  ...  vermietet   \n",
              "2    ['WANNE', 'GEPFLEGT', 'FERN', 'LAMINAT', 'FLIE...  ...  vermietet   \n",
              "3    ['Neubau', 'DUSCHE', 'Personenaufzug', 'ERSTBE...  ...        NaN   \n",
              "4    ['Neubau', 'DUSCHE', 'Personenaufzug', 'Erdges...  ...        NaN   \n",
              "..                                                 ...  ...        ...   \n",
              "956  ['Neubau', 'WANNE', 'gaestewc', 'DUSCHE', 'Kel...  ...        NaN   \n",
              "957  ['Neubau', 'barriefrei', 'WANNE', 'gaestewc', ...  ...        NaN   \n",
              "958  ['Personenaufzug', 'Zentralheizung', 'LINOLEUM...  ...        NaN   \n",
              "959  ['DUSCHE', 'Kelleranteil', 'GAS', 'Zentralheiz...  ...       frei   \n",
              "960  ['Neubau', 'barriefrei', 'WANNE', 'DUSCHE', 'F...  ...        NaN   \n",
              "\n",
              "      SUITABILITY            CONDITION  HOUSECONDITION  PARKINGSLOT  \\\n",
              "0             NaN            Erstbezug          Neubau   Tiefgarage   \n",
              "1     WG-geeignet  renoviert / saniert             NaN          NaN   \n",
              "2             NaN             gepflegt             NaN   Tiefgarage   \n",
              "3             NaN            Erstbezug          Neubau          NaN   \n",
              "4             NaN            Erstbezug          Neubau          NaN   \n",
              "..            ...                  ...             ...          ...   \n",
              "956           NaN            Erstbezug          Neubau   Tiefgarage   \n",
              "957  barrierefrei            Erstbezug          Neubau   Tiefgarage   \n",
              "958           NaN                  NaN             NaN          NaN   \n",
              "959           NaN                  NaN             NaN          NaN   \n",
              "960  barrierefrei            Erstbezug          Neubau   Tiefgarage   \n",
              "\n",
              "                 ENERGY BUILDINGTYPE         HEATING        ELEVATOR  \\\n",
              "0                   NaN          NaN  Fubodenheizung  Personenaufzug   \n",
              "1                   Gas          NaN   Etagenheizung             NaN   \n",
              "2              Fernwrme          NaN             NaN             NaN   \n",
              "3    Blockheizkraftwerk       KfW 55  Fubodenheizung  Personenaufzug   \n",
              "4    Blockheizkraftwerk       KfW 55  Fubodenheizung  Personenaufzug   \n",
              "..                  ...          ...             ...             ...   \n",
              "956                 NaN          NaN  Fubodenheizung  Personenaufzug   \n",
              "957                 NaN          NaN  Fubodenheizung  Personenaufzug   \n",
              "958                 NaN          NaN  Zentralheizung  Personenaufzug   \n",
              "959                 Gas          NaN  Zentralheizung             NaN   \n",
              "960                 NaN          NaN  Fubodenheizung  Personenaufzug   \n",
              "\n",
              "     EQUIPMENTS  \n",
              "0           NaN  \n",
              "1           NaN  \n",
              "2           NaN  \n",
              "3           NaN  \n",
              "4           NaN  \n",
              "..          ...  \n",
              "956         NaN  \n",
              "957         NaN  \n",
              "958         NaN  \n",
              "959     mbliert  \n",
              "960         NaN  \n",
              "\n",
              "[961 rows x 50 columns]"
            ],
            "text/html": [
              "\n",
              "  <div id=\"df-65479d72-3c8b-4a06-beeb-1399c52bc77b\" class=\"colab-df-container\">\n",
              "    <div>\n",
              "<style scoped>\n",
              "    .dataframe tbody tr th:only-of-type {\n",
              "        vertical-align: middle;\n",
              "    }\n",
              "\n",
              "    .dataframe tbody tr th {\n",
              "        vertical-align: top;\n",
              "    }\n",
              "\n",
              "    .dataframe thead th {\n",
              "        text-align: right;\n",
              "    }\n",
              "</style>\n",
              "<table border=\"1\" class=\"dataframe\">\n",
              "  <thead>\n",
              "    <tr style=\"text-align: right;\">\n",
              "      <th></th>\n",
              "      <th>General.EstateTypeKey</th>\n",
              "      <th>General.ReferenceNumber</th>\n",
              "      <th>General.DistributionTypeKey</th>\n",
              "      <th>General.ConstructionYear</th>\n",
              "      <th>General.LivingSpace</th>\n",
              "      <th>Tealium.object_locationid</th>\n",
              "      <th>Tealium.object_address_is_visible</th>\n",
              "      <th>Tealium.object_zip</th>\n",
              "      <th>Tealium.object_currency</th>\n",
              "      <th>Tealium.object_features</th>\n",
              "      <th>...</th>\n",
              "      <th>USAGE</th>\n",
              "      <th>SUITABILITY</th>\n",
              "      <th>CONDITION</th>\n",
              "      <th>HOUSECONDITION</th>\n",
              "      <th>PARKINGSLOT</th>\n",
              "      <th>ENERGY</th>\n",
              "      <th>BUILDINGTYPE</th>\n",
              "      <th>HEATING</th>\n",
              "      <th>ELEVATOR</th>\n",
              "      <th>EQUIPMENTS</th>\n",
              "    </tr>\n",
              "  </thead>\n",
              "  <tbody>\n",
              "    <tr>\n",
              "      <th>0</th>\n",
              "      <td>WOHNUNG</td>\n",
              "      <td>001/G1/E114</td>\n",
              "      <td>ZUM_KAUF</td>\n",
              "      <td>20230</td>\n",
              "      <td>24707</td>\n",
              "      <td>493480</td>\n",
              "      <td>True</td>\n",
              "      <td>90482</td>\n",
              "      <td>EUR</td>\n",
              "      <td>['Neubau', 'WANNE', 'gaestewc', 'Bad/WC getren...</td>\n",
              "      <td>...</td>\n",
              "      <td>NaN</td>\n",
              "      <td>NaN</td>\n",
              "      <td>Erstbezug</td>\n",
              "      <td>Neubau</td>\n",
              "      <td>Tiefgarage</td>\n",
              "      <td>NaN</td>\n",
              "      <td>NaN</td>\n",
              "      <td>Fubodenheizung</td>\n",
              "      <td>Personenaufzug</td>\n",
              "      <td>NaN</td>\n",
              "    </tr>\n",
              "    <tr>\n",
              "      <th>1</th>\n",
              "      <td>WOHNUNG</td>\n",
              "      <td>NaN</td>\n",
              "      <td>ZUM_KAUF</td>\n",
              "      <td>19000</td>\n",
              "      <td>690</td>\n",
              "      <td>493430</td>\n",
              "      <td>False</td>\n",
              "      <td>90461</td>\n",
              "      <td>EUR</td>\n",
              "      <td>['Dach ausgebaut', 'WANNE', 'gaestewc', 'Bad/W...</td>\n",
              "      <td>...</td>\n",
              "      <td>vermietet</td>\n",
              "      <td>WG-geeignet</td>\n",
              "      <td>renoviert / saniert</td>\n",
              "      <td>NaN</td>\n",
              "      <td>NaN</td>\n",
              "      <td>Gas</td>\n",
              "      <td>NaN</td>\n",
              "      <td>Etagenheizung</td>\n",
              "      <td>NaN</td>\n",
              "      <td>NaN</td>\n",
              "    </tr>\n",
              "    <tr>\n",
              "      <th>2</th>\n",
              "      <td>WOHNUNG</td>\n",
              "      <td>NaN</td>\n",
              "      <td>ZUM_KAUF</td>\n",
              "      <td>19720</td>\n",
              "      <td>6946</td>\n",
              "      <td>493465</td>\n",
              "      <td>False</td>\n",
              "      <td>90473</td>\n",
              "      <td>EUR</td>\n",
              "      <td>['WANNE', 'GEPFLEGT', 'FERN', 'LAMINAT', 'FLIE...</td>\n",
              "      <td>...</td>\n",
              "      <td>vermietet</td>\n",
              "      <td>NaN</td>\n",
              "      <td>gepflegt</td>\n",
              "      <td>NaN</td>\n",
              "      <td>Tiefgarage</td>\n",
              "      <td>Fernwrme</td>\n",
              "      <td>NaN</td>\n",
              "      <td>NaN</td>\n",
              "      <td>NaN</td>\n",
              "      <td>NaN</td>\n",
              "    </tr>\n",
              "    <tr>\n",
              "      <th>3</th>\n",
              "      <td>WOHNUNG</td>\n",
              "      <td>X4_301</td>\n",
              "      <td>ZUM_KAUF</td>\n",
              "      <td>20230</td>\n",
              "      <td>8281</td>\n",
              "      <td>493524</td>\n",
              "      <td>True</td>\n",
              "      <td>90429</td>\n",
              "      <td>EUR</td>\n",
              "      <td>['Neubau', 'DUSCHE', 'Personenaufzug', 'ERSTBE...</td>\n",
              "      <td>...</td>\n",
              "      <td>NaN</td>\n",
              "      <td>NaN</td>\n",
              "      <td>Erstbezug</td>\n",
              "      <td>Neubau</td>\n",
              "      <td>NaN</td>\n",
              "      <td>Blockheizkraftwerk</td>\n",
              "      <td>KfW 55</td>\n",
              "      <td>Fubodenheizung</td>\n",
              "      <td>Personenaufzug</td>\n",
              "      <td>NaN</td>\n",
              "    </tr>\n",
              "    <tr>\n",
              "      <th>4</th>\n",
              "      <td>WOHNUNG</td>\n",
              "      <td>X4_204</td>\n",
              "      <td>ZUM_KAUF</td>\n",
              "      <td>20230</td>\n",
              "      <td>7552</td>\n",
              "      <td>493524</td>\n",
              "      <td>True</td>\n",
              "      <td>90429</td>\n",
              "      <td>EUR</td>\n",
              "      <td>['Neubau', 'DUSCHE', 'Personenaufzug', 'Erdges...</td>\n",
              "      <td>...</td>\n",
              "      <td>NaN</td>\n",
              "      <td>NaN</td>\n",
              "      <td>Erstbezug</td>\n",
              "      <td>Neubau</td>\n",
              "      <td>NaN</td>\n",
              "      <td>Blockheizkraftwerk</td>\n",
              "      <td>KfW 55</td>\n",
              "      <td>Fubodenheizung</td>\n",
              "      <td>Personenaufzug</td>\n",
              "      <td>NaN</td>\n",
              "    </tr>\n",
              "    <tr>\n",
              "      <th>...</th>\n",
              "      <td>...</td>\n",
              "      <td>...</td>\n",
              "      <td>...</td>\n",
              "      <td>...</td>\n",
              "      <td>...</td>\n",
              "      <td>...</td>\n",
              "      <td>...</td>\n",
              "      <td>...</td>\n",
              "      <td>...</td>\n",
              "      <td>...</td>\n",
              "      <td>...</td>\n",
              "      <td>...</td>\n",
              "      <td>...</td>\n",
              "      <td>...</td>\n",
              "      <td>...</td>\n",
              "      <td>...</td>\n",
              "      <td>...</td>\n",
              "      <td>...</td>\n",
              "      <td>...</td>\n",
              "      <td>...</td>\n",
              "      <td>...</td>\n",
              "    </tr>\n",
              "    <tr>\n",
              "      <th>956</th>\n",
              "      <td>WOHNUNG</td>\n",
              "      <td>001/G1/E119</td>\n",
              "      <td>ZUM_KAUF</td>\n",
              "      <td>20230</td>\n",
              "      <td>11032</td>\n",
              "      <td>493480</td>\n",
              "      <td>True</td>\n",
              "      <td>90482</td>\n",
              "      <td>EUR</td>\n",
              "      <td>['Neubau', 'WANNE', 'gaestewc', 'DUSCHE', 'Kel...</td>\n",
              "      <td>...</td>\n",
              "      <td>NaN</td>\n",
              "      <td>NaN</td>\n",
              "      <td>Erstbezug</td>\n",
              "      <td>Neubau</td>\n",
              "      <td>Tiefgarage</td>\n",
              "      <td>NaN</td>\n",
              "      <td>NaN</td>\n",
              "      <td>Fubodenheizung</td>\n",
              "      <td>Personenaufzug</td>\n",
              "      <td>NaN</td>\n",
              "    </tr>\n",
              "    <tr>\n",
              "      <th>957</th>\n",
              "      <td>WOHNUNG</td>\n",
              "      <td>001/G1/E72</td>\n",
              "      <td>ZUM_KAUF</td>\n",
              "      <td>20230</td>\n",
              "      <td>10311</td>\n",
              "      <td>493480</td>\n",
              "      <td>True</td>\n",
              "      <td>90482</td>\n",
              "      <td>EUR</td>\n",
              "      <td>['Neubau', 'barriefrei', 'WANNE', 'gaestewc', ...</td>\n",
              "      <td>...</td>\n",
              "      <td>NaN</td>\n",
              "      <td>barrierefrei</td>\n",
              "      <td>Erstbezug</td>\n",
              "      <td>Neubau</td>\n",
              "      <td>Tiefgarage</td>\n",
              "      <td>NaN</td>\n",
              "      <td>NaN</td>\n",
              "      <td>Fubodenheizung</td>\n",
              "      <td>Personenaufzug</td>\n",
              "      <td>NaN</td>\n",
              "    </tr>\n",
              "    <tr>\n",
              "      <th>958</th>\n",
              "      <td>WOHNUNG</td>\n",
              "      <td>NaN</td>\n",
              "      <td>ZUM_KAUF</td>\n",
              "      <td>19650</td>\n",
              "      <td>910</td>\n",
              "      <td>493430</td>\n",
              "      <td>True</td>\n",
              "      <td>90441</td>\n",
              "      <td>EUR</td>\n",
              "      <td>['Personenaufzug', 'Zentralheizung', 'LINOLEUM...</td>\n",
              "      <td>...</td>\n",
              "      <td>NaN</td>\n",
              "      <td>NaN</td>\n",
              "      <td>NaN</td>\n",
              "      <td>NaN</td>\n",
              "      <td>NaN</td>\n",
              "      <td>NaN</td>\n",
              "      <td>NaN</td>\n",
              "      <td>Zentralheizung</td>\n",
              "      <td>Personenaufzug</td>\n",
              "      <td>NaN</td>\n",
              "    </tr>\n",
              "    <tr>\n",
              "      <th>959</th>\n",
              "      <td>WOHNUNG</td>\n",
              "      <td>64415430</td>\n",
              "      <td>ZUM_KAUF</td>\n",
              "      <td>19580</td>\n",
              "      <td>340</td>\n",
              "      <td>493479</td>\n",
              "      <td>True</td>\n",
              "      <td>90409</td>\n",
              "      <td>EUR</td>\n",
              "      <td>['DUSCHE', 'Kelleranteil', 'GAS', 'Zentralheiz...</td>\n",
              "      <td>...</td>\n",
              "      <td>frei</td>\n",
              "      <td>NaN</td>\n",
              "      <td>NaN</td>\n",
              "      <td>NaN</td>\n",
              "      <td>NaN</td>\n",
              "      <td>Gas</td>\n",
              "      <td>NaN</td>\n",
              "      <td>Zentralheizung</td>\n",
              "      <td>NaN</td>\n",
              "      <td>mbliert</td>\n",
              "    </tr>\n",
              "    <tr>\n",
              "      <th>960</th>\n",
              "      <td>WOHNUNG</td>\n",
              "      <td>001/G3/E4</td>\n",
              "      <td>ZUM_KAUF</td>\n",
              "      <td>20230</td>\n",
              "      <td>1172</td>\n",
              "      <td>493480</td>\n",
              "      <td>True</td>\n",
              "      <td>90482</td>\n",
              "      <td>EUR</td>\n",
              "      <td>['Neubau', 'barriefrei', 'WANNE', 'DUSCHE', 'F...</td>\n",
              "      <td>...</td>\n",
              "      <td>NaN</td>\n",
              "      <td>barrierefrei</td>\n",
              "      <td>Erstbezug</td>\n",
              "      <td>Neubau</td>\n",
              "      <td>Tiefgarage</td>\n",
              "      <td>NaN</td>\n",
              "      <td>NaN</td>\n",
              "      <td>Fubodenheizung</td>\n",
              "      <td>Personenaufzug</td>\n",
              "      <td>NaN</td>\n",
              "    </tr>\n",
              "  </tbody>\n",
              "</table>\n",
              "<p>961 rows × 50 columns</p>\n",
              "</div>\n",
              "    <div class=\"colab-df-buttons\">\n",
              "\n",
              "  <div class=\"colab-df-container\">\n",
              "    <button class=\"colab-df-convert\" onclick=\"convertToInteractive('df-65479d72-3c8b-4a06-beeb-1399c52bc77b')\"\n",
              "            title=\"Convert this dataframe to an interactive table.\"\n",
              "            style=\"display:none;\">\n",
              "\n",
              "  <svg xmlns=\"http://www.w3.org/2000/svg\" height=\"24px\" viewBox=\"0 -960 960 960\">\n",
              "    <path d=\"M120-120v-720h720v720H120Zm60-500h600v-160H180v160Zm220 220h160v-160H400v160Zm0 220h160v-160H400v160ZM180-400h160v-160H180v160Zm440 0h160v-160H620v160ZM180-180h160v-160H180v160Zm440 0h160v-160H620v160Z\"/>\n",
              "  </svg>\n",
              "    </button>\n",
              "\n",
              "  <style>\n",
              "    .colab-df-container {\n",
              "      display:flex;\n",
              "      gap: 12px;\n",
              "    }\n",
              "\n",
              "    .colab-df-convert {\n",
              "      background-color: #E8F0FE;\n",
              "      border: none;\n",
              "      border-radius: 50%;\n",
              "      cursor: pointer;\n",
              "      display: none;\n",
              "      fill: #1967D2;\n",
              "      height: 32px;\n",
              "      padding: 0 0 0 0;\n",
              "      width: 32px;\n",
              "    }\n",
              "\n",
              "    .colab-df-convert:hover {\n",
              "      background-color: #E2EBFA;\n",
              "      box-shadow: 0px 1px 2px rgba(60, 64, 67, 0.3), 0px 1px 3px 1px rgba(60, 64, 67, 0.15);\n",
              "      fill: #174EA6;\n",
              "    }\n",
              "\n",
              "    .colab-df-buttons div {\n",
              "      margin-bottom: 4px;\n",
              "    }\n",
              "\n",
              "    [theme=dark] .colab-df-convert {\n",
              "      background-color: #3B4455;\n",
              "      fill: #D2E3FC;\n",
              "    }\n",
              "\n",
              "    [theme=dark] .colab-df-convert:hover {\n",
              "      background-color: #434B5C;\n",
              "      box-shadow: 0px 1px 3px 1px rgba(0, 0, 0, 0.15);\n",
              "      filter: drop-shadow(0px 1px 2px rgba(0, 0, 0, 0.3));\n",
              "      fill: #FFFFFF;\n",
              "    }\n",
              "  </style>\n",
              "\n",
              "    <script>\n",
              "      const buttonEl =\n",
              "        document.querySelector('#df-65479d72-3c8b-4a06-beeb-1399c52bc77b button.colab-df-convert');\n",
              "      buttonEl.style.display =\n",
              "        google.colab.kernel.accessAllowed ? 'block' : 'none';\n",
              "\n",
              "      async function convertToInteractive(key) {\n",
              "        const element = document.querySelector('#df-65479d72-3c8b-4a06-beeb-1399c52bc77b');\n",
              "        const dataTable =\n",
              "          await google.colab.kernel.invokeFunction('convertToInteractive',\n",
              "                                                    [key], {});\n",
              "        if (!dataTable) return;\n",
              "\n",
              "        const docLinkHtml = 'Like what you see? Visit the ' +\n",
              "          '<a target=\"_blank\" href=https://colab.research.google.com/notebooks/data_table.ipynb>data table notebook</a>'\n",
              "          + ' to learn more about interactive tables.';\n",
              "        element.innerHTML = '';\n",
              "        dataTable['output_type'] = 'display_data';\n",
              "        await google.colab.output.renderOutput(dataTable, element);\n",
              "        const docLink = document.createElement('div');\n",
              "        docLink.innerHTML = docLinkHtml;\n",
              "        element.appendChild(docLink);\n",
              "      }\n",
              "    </script>\n",
              "  </div>\n",
              "\n",
              "\n",
              "<div id=\"df-928a7786-d6f8-4ef6-b5e6-3cba1c00dd81\">\n",
              "  <button class=\"colab-df-quickchart\" onclick=\"quickchart('df-928a7786-d6f8-4ef6-b5e6-3cba1c00dd81')\"\n",
              "            title=\"Suggest charts\"\n",
              "            style=\"display:none;\">\n",
              "\n",
              "<svg xmlns=\"http://www.w3.org/2000/svg\" height=\"24px\"viewBox=\"0 0 24 24\"\n",
              "     width=\"24px\">\n",
              "    <g>\n",
              "        <path d=\"M19 3H5c-1.1 0-2 .9-2 2v14c0 1.1.9 2 2 2h14c1.1 0 2-.9 2-2V5c0-1.1-.9-2-2-2zM9 17H7v-7h2v7zm4 0h-2V7h2v10zm4 0h-2v-4h2v4z\"/>\n",
              "    </g>\n",
              "</svg>\n",
              "  </button>\n",
              "\n",
              "<style>\n",
              "  .colab-df-quickchart {\n",
              "      --bg-color: #E8F0FE;\n",
              "      --fill-color: #1967D2;\n",
              "      --hover-bg-color: #E2EBFA;\n",
              "      --hover-fill-color: #174EA6;\n",
              "      --disabled-fill-color: #AAA;\n",
              "      --disabled-bg-color: #DDD;\n",
              "  }\n",
              "\n",
              "  [theme=dark] .colab-df-quickchart {\n",
              "      --bg-color: #3B4455;\n",
              "      --fill-color: #D2E3FC;\n",
              "      --hover-bg-color: #434B5C;\n",
              "      --hover-fill-color: #FFFFFF;\n",
              "      --disabled-bg-color: #3B4455;\n",
              "      --disabled-fill-color: #666;\n",
              "  }\n",
              "\n",
              "  .colab-df-quickchart {\n",
              "    background-color: var(--bg-color);\n",
              "    border: none;\n",
              "    border-radius: 50%;\n",
              "    cursor: pointer;\n",
              "    display: none;\n",
              "    fill: var(--fill-color);\n",
              "    height: 32px;\n",
              "    padding: 0;\n",
              "    width: 32px;\n",
              "  }\n",
              "\n",
              "  .colab-df-quickchart:hover {\n",
              "    background-color: var(--hover-bg-color);\n",
              "    box-shadow: 0 1px 2px rgba(60, 64, 67, 0.3), 0 1px 3px 1px rgba(60, 64, 67, 0.15);\n",
              "    fill: var(--button-hover-fill-color);\n",
              "  }\n",
              "\n",
              "  .colab-df-quickchart-complete:disabled,\n",
              "  .colab-df-quickchart-complete:disabled:hover {\n",
              "    background-color: var(--disabled-bg-color);\n",
              "    fill: var(--disabled-fill-color);\n",
              "    box-shadow: none;\n",
              "  }\n",
              "\n",
              "  .colab-df-spinner {\n",
              "    border: 2px solid var(--fill-color);\n",
              "    border-color: transparent;\n",
              "    border-bottom-color: var(--fill-color);\n",
              "    animation:\n",
              "      spin 1s steps(1) infinite;\n",
              "  }\n",
              "\n",
              "  @keyframes spin {\n",
              "    0% {\n",
              "      border-color: transparent;\n",
              "      border-bottom-color: var(--fill-color);\n",
              "      border-left-color: var(--fill-color);\n",
              "    }\n",
              "    20% {\n",
              "      border-color: transparent;\n",
              "      border-left-color: var(--fill-color);\n",
              "      border-top-color: var(--fill-color);\n",
              "    }\n",
              "    30% {\n",
              "      border-color: transparent;\n",
              "      border-left-color: var(--fill-color);\n",
              "      border-top-color: var(--fill-color);\n",
              "      border-right-color: var(--fill-color);\n",
              "    }\n",
              "    40% {\n",
              "      border-color: transparent;\n",
              "      border-right-color: var(--fill-color);\n",
              "      border-top-color: var(--fill-color);\n",
              "    }\n",
              "    60% {\n",
              "      border-color: transparent;\n",
              "      border-right-color: var(--fill-color);\n",
              "    }\n",
              "    80% {\n",
              "      border-color: transparent;\n",
              "      border-right-color: var(--fill-color);\n",
              "      border-bottom-color: var(--fill-color);\n",
              "    }\n",
              "    90% {\n",
              "      border-color: transparent;\n",
              "      border-bottom-color: var(--fill-color);\n",
              "    }\n",
              "  }\n",
              "</style>\n",
              "\n",
              "  <script>\n",
              "    async function quickchart(key) {\n",
              "      const quickchartButtonEl =\n",
              "        document.querySelector('#' + key + ' button');\n",
              "      quickchartButtonEl.disabled = true;  // To prevent multiple clicks.\n",
              "      quickchartButtonEl.classList.add('colab-df-spinner');\n",
              "      try {\n",
              "        const charts = await google.colab.kernel.invokeFunction(\n",
              "            'suggestCharts', [key], {});\n",
              "      } catch (error) {\n",
              "        console.error('Error during call to suggestCharts:', error);\n",
              "      }\n",
              "      quickchartButtonEl.classList.remove('colab-df-spinner');\n",
              "      quickchartButtonEl.classList.add('colab-df-quickchart-complete');\n",
              "    }\n",
              "    (() => {\n",
              "      let quickchartButtonEl =\n",
              "        document.querySelector('#df-928a7786-d6f8-4ef6-b5e6-3cba1c00dd81 button');\n",
              "      quickchartButtonEl.style.display =\n",
              "        google.colab.kernel.accessAllowed ? 'block' : 'none';\n",
              "    })();\n",
              "  </script>\n",
              "</div>\n",
              "    </div>\n",
              "  </div>\n"
            ]
          },
          "metadata": {},
          "execution_count": 79
        }
      ]
    },
    {
      "cell_type": "markdown",
      "source": [
        "Info"
      ],
      "metadata": {
        "id": "lLEQpiHJcHy6"
      }
    },
    {
      "cell_type": "code",
      "source": [
        "df_github.info()"
      ],
      "metadata": {
        "colab": {
          "base_uri": "https://localhost:8080/"
        },
        "id": "XMNWsWTSciEo",
        "outputId": "3c6e2d85-f4f1-48de-aab2-8dc55dd942d6"
      },
      "execution_count": 80,
      "outputs": [
        {
          "output_type": "stream",
          "name": "stdout",
          "text": [
            "<class 'pandas.core.frame.DataFrame'>\n",
            "RangeIndex: 961 entries, 0 to 960\n",
            "Data columns (total 50 columns):\n",
            " #   Column                                                 Non-Null Count  Dtype  \n",
            "---  ------                                                 --------------  -----  \n",
            " 0   General.EstateTypeKey                                  961 non-null    object \n",
            " 1   General.ReferenceNumber                                832 non-null    object \n",
            " 2   General.DistributionTypeKey                            961 non-null    object \n",
            " 3   General.ConstructionYear                               961 non-null    int64  \n",
            " 4   General.LivingSpace                                    961 non-null    int64  \n",
            " 5   Tealium.object_locationid                              961 non-null    int64  \n",
            " 6   Tealium.object_address_is_visible                      961 non-null    bool   \n",
            " 7   Tealium.object_zip                                     961 non-null    int64  \n",
            " 8   Tealium.object_currency                                961 non-null    object \n",
            " 9   Tealium.object_features                                961 non-null    object \n",
            " 10  Tealium.object_objektart_sub                           961 non-null    object \n",
            " 11  Tealium.expose_type                                    961 non-null    object \n",
            " 12  Tealium.broker_guid                                    961 non-null    int64  \n",
            " 13  Tealium.object_count_photos                            960 non-null    float64\n",
            " 14  LocalRatings.scores.local_amenities                    958 non-null    float64\n",
            " 15  LocalRatings.scores.mobility                           958 non-null    float64\n",
            " 16  MetaBadges                                             961 non-null    object \n",
            " 17  Price.AdditionalInformation.Commission.CommissionType  961 non-null    object \n",
            " 18  EstateAddress.City                                     961 non-null    object \n",
            " 19  EstateAddress.ZipCode                                  961 non-null    int64  \n",
            " 20  EstateAddress.Street                                   316 non-null    object \n",
            " 21  Offerer.addressGuid                                    961 non-null    object \n",
            " 22  Offerer.globalUserId                                   961 non-null    int64  \n",
            " 23  Offerer.contactData.companyName                        930 non-null    object \n",
            " 24  Project.Address.PostCode                               177 non-null    float64\n",
            " 25  Project.Address.Street                                 177 non-null    object \n",
            " 26  Project.Address.HouseNumber                            146 non-null    object \n",
            " 27  Latitude                                               961 non-null    int64  \n",
            " 28  Longitude                                              961 non-null    int64  \n",
            " 29  Stadtteil                                              961 non-null    object \n",
            " 30  Stadt                                                  961 non-null    object \n",
            " 31  PRICE                                                  961 non-null    int64  \n",
            " 32  Column1                                                961 non-null    float64\n",
            " 33  ROOMS                                                  961 non-null    int64  \n",
            " 34  PRICE_COMMONCHARGE                                     423 non-null    float64\n",
            " 35  EnergyType                                             727 non-null    object \n",
            " 36  Class                                                  622 non-null    object \n",
            " 37  Value                                                  727 non-null    float64\n",
            " 38  CATEGORY                                               153 non-null    object \n",
            " 39  FLOOR                                                  807 non-null    object \n",
            " 40  USAGE                                                  325 non-null    object \n",
            " 41  SUITABILITY                                            163 non-null    object \n",
            " 42  CONDITION                                              415 non-null    object \n",
            " 43  HOUSECONDITION                                         219 non-null    object \n",
            " 44  PARKINGSLOT                                            404 non-null    object \n",
            " 45  ENERGY                                                 789 non-null    object \n",
            " 46  BUILDINGTYPE                                           118 non-null    object \n",
            " 47  HEATING                                                734 non-null    object \n",
            " 48  ELEVATOR                                               464 non-null    object \n",
            " 49  EQUIPMENTS                                             84 non-null     object \n",
            "dtypes: bool(1), float64(7), int64(11), object(31)\n",
            "memory usage: 368.9+ KB\n"
          ]
        }
      ]
    },
    {
      "cell_type": "markdown",
      "source": [
        "Show column names"
      ],
      "metadata": {
        "id": "aS9dpiG2cMVh"
      }
    },
    {
      "cell_type": "code",
      "source": [
        "df_github.columns"
      ],
      "metadata": {
        "colab": {
          "base_uri": "https://localhost:8080/"
        },
        "id": "UJbYF6qTcr_R",
        "outputId": "40d5d728-637d-4a69-cc09-c454c8f9d0ad"
      },
      "execution_count": 81,
      "outputs": [
        {
          "output_type": "execute_result",
          "data": {
            "text/plain": [
              "Index(['General.EstateTypeKey', 'General.ReferenceNumber',\n",
              "       'General.DistributionTypeKey', 'General.ConstructionYear',\n",
              "       'General.LivingSpace', 'Tealium.object_locationid',\n",
              "       'Tealium.object_address_is_visible', 'Tealium.object_zip',\n",
              "       'Tealium.object_currency', 'Tealium.object_features',\n",
              "       'Tealium.object_objektart_sub', 'Tealium.expose_type',\n",
              "       'Tealium.broker_guid', 'Tealium.object_count_photos',\n",
              "       'LocalRatings.scores.local_amenities', 'LocalRatings.scores.mobility',\n",
              "       'MetaBadges', 'Price.AdditionalInformation.Commission.CommissionType',\n",
              "       'EstateAddress.City', 'EstateAddress.ZipCode', 'EstateAddress.Street',\n",
              "       'Offerer.addressGuid', 'Offerer.globalUserId',\n",
              "       'Offerer.contactData.companyName', 'Project.Address.PostCode',\n",
              "       'Project.Address.Street', 'Project.Address.HouseNumber', 'Latitude',\n",
              "       'Longitude', 'Stadtteil', 'Stadt', 'PRICE', 'Column1', 'ROOMS',\n",
              "       'PRICE_COMMONCHARGE', 'EnergyType', 'Class', 'Value', 'CATEGORY',\n",
              "       'FLOOR', 'USAGE', 'SUITABILITY', 'CONDITION', 'HOUSECONDITION',\n",
              "       'PARKINGSLOT', 'ENERGY', 'BUILDINGTYPE', 'HEATING', 'ELEVATOR',\n",
              "       'EQUIPMENTS'],\n",
              "      dtype='object')"
            ]
          },
          "metadata": {},
          "execution_count": 81
        }
      ]
    },
    {
      "cell_type": "markdown",
      "source": [
        "Show data types"
      ],
      "metadata": {
        "id": "JJ0pg51rcPC1"
      }
    },
    {
      "cell_type": "code",
      "source": [
        "df_github.dtypes"
      ],
      "metadata": {
        "id": "0fI5XuEGczUP"
      },
      "execution_count": null,
      "outputs": []
    },
    {
      "cell_type": "markdown",
      "source": [
        "# Summary statistics for response variable: \"Column1\"\n",
        "Info: \"Column1\" is a clone of \"PRICE\""
      ],
      "metadata": {
        "id": "xcFTnMLIb5Y_"
      }
    },
    {
      "cell_type": "markdown",
      "source": [
        "List property prices"
      ],
      "metadata": {
        "id": "aq7bAl0UgASn"
      }
    },
    {
      "cell_type": "code",
      "source": [
        "df_github[\"Column1\"]"
      ],
      "metadata": {
        "colab": {
          "base_uri": "https://localhost:8080/"
        },
        "id": "T4AbsLB9gDEi",
        "outputId": "23580578-0ed6-4ee5-902c-03e6e61f5351"
      },
      "execution_count": 82,
      "outputs": [
        {
          "output_type": "execute_result",
          "data": {
            "text/plain": [
              "0      2539000.0\n",
              "1       225000.0\n",
              "2       195000.0\n",
              "3       483623.0\n",
              "4       433956.0\n",
              "         ...    \n",
              "956     909000.0\n",
              "957     819000.0\n",
              "958     295000.0\n",
              "959     198000.0\n",
              "960     729000.0\n",
              "Name: Column1, Length: 961, dtype: float64"
            ]
          },
          "metadata": {},
          "execution_count": 82
        }
      ]
    },
    {
      "cell_type": "markdown",
      "source": [
        "Maximum property price"
      ],
      "metadata": {
        "id": "5pbEb9p5kPn9"
      }
    },
    {
      "cell_type": "code",
      "source": [
        "print(df_github[\"Column1\"].max())\n",
        "\n",
        "print(df_github[\"Column1\"].idxmax())"
      ],
      "metadata": {
        "colab": {
          "base_uri": "https://localhost:8080/"
        },
        "id": "tGvHltXWkUfH",
        "outputId": "fd303147-799d-442e-d1d6-c6eed073d1c9"
      },
      "execution_count": 94,
      "outputs": [
        {
          "output_type": "stream",
          "name": "stdout",
          "text": [
            "100000000.0\n",
            "781\n"
          ]
        }
      ]
    },
    {
      "cell_type": "code",
      "source": [
        "print(df_github.loc[781,:])"
      ],
      "metadata": {
        "id": "mOReiJpIvgXA"
      },
      "execution_count": null,
      "outputs": []
    },
    {
      "cell_type": "markdown",
      "source": [
        "Removing outliers (for simplication purposes)"
      ],
      "metadata": {
        "id": "lyj5ZTbByU6c"
      }
    },
    {
      "cell_type": "code",
      "source": [
        "df_github=df_github.drop(df_github.index[781])"
      ],
      "metadata": {
        "id": "J7vmWrHEx4tL"
      },
      "execution_count": 109,
      "outputs": []
    },
    {
      "cell_type": "markdown",
      "source": [
        "Minimum property price"
      ],
      "metadata": {
        "id": "RO0TMyr-kVC2"
      }
    },
    {
      "cell_type": "code",
      "source": [
        "print(df_github[\"Column1\"].min())\n",
        "\n",
        "print(df_github[\"Column1\"].idxmin())"
      ],
      "metadata": {
        "colab": {
          "base_uri": "https://localhost:8080/"
        },
        "id": "5RdnHNdPkYTd",
        "outputId": "3f18374f-51ad-4572-d0b5-89dcb921271c"
      },
      "execution_count": 85,
      "outputs": [
        {
          "output_type": "stream",
          "name": "stdout",
          "text": [
            "74000.0\n",
            "803\n"
          ]
        }
      ]
    },
    {
      "cell_type": "markdown",
      "source": [
        "Mean"
      ],
      "metadata": {
        "id": "AGjPDReudYBH"
      }
    },
    {
      "cell_type": "code",
      "source": [
        "df_github[\"Column1\"].mean()"
      ],
      "metadata": {
        "colab": {
          "base_uri": "https://localhost:8080/"
        },
        "id": "h8GROtBedkaf",
        "outputId": "99be617b-9612-42d6-8401-e7a2bb429896"
      },
      "execution_count": 86,
      "outputs": [
        {
          "output_type": "execute_result",
          "data": {
            "text/plain": [
              "460907.3054110302"
            ]
          },
          "metadata": {},
          "execution_count": 86
        }
      ]
    },
    {
      "cell_type": "markdown",
      "source": [
        "Median"
      ],
      "metadata": {
        "id": "2M0CwbI9dZMD"
      }
    },
    {
      "cell_type": "code",
      "source": [
        "df_github[\"Column1\"].median()"
      ],
      "metadata": {
        "colab": {
          "base_uri": "https://localhost:8080/"
        },
        "id": "GudeVGJsd76e",
        "outputId": "137baf0a-3e5d-4897-c6a6-e30139db0933"
      },
      "execution_count": 87,
      "outputs": [
        {
          "output_type": "execute_result",
          "data": {
            "text/plain": [
              "295000.0"
            ]
          },
          "metadata": {},
          "execution_count": 87
        }
      ]
    },
    {
      "cell_type": "markdown",
      "source": [
        "Variance"
      ],
      "metadata": {
        "id": "8xZcG9yidawT"
      }
    },
    {
      "cell_type": "code",
      "source": [
        "df_github[\"Column1\"].var()"
      ],
      "metadata": {
        "colab": {
          "base_uri": "https://localhost:8080/"
        },
        "id": "2Z3TfG3kd-sm",
        "outputId": "ae551347-2e18-4032-8bf2-ea704e949aaa"
      },
      "execution_count": 88,
      "outputs": [
        {
          "output_type": "execute_result",
          "data": {
            "text/plain": [
              "10385112324652.906"
            ]
          },
          "metadata": {},
          "execution_count": 88
        }
      ]
    },
    {
      "cell_type": "markdown",
      "source": [
        "Summary statistics for variable 'Column1'"
      ],
      "metadata": {
        "id": "lTUjC_Xcdb3o"
      }
    },
    {
      "cell_type": "code",
      "source": [
        "df_github[\"Column1\"].describe()"
      ],
      "metadata": {
        "colab": {
          "base_uri": "https://localhost:8080/"
        },
        "id": "6ejsQpAAhlDT",
        "outputId": "6af58899-6d7d-4940-b16d-cda3dd4245e8"
      },
      "execution_count": 111,
      "outputs": [
        {
          "output_type": "execute_result",
          "data": {
            "text/plain": [
              "count    9.600000e+02\n",
              "mean     3.572208e+05\n",
              "std      2.314122e+05\n",
              "min      7.400000e+04\n",
              "25%      1.999975e+05\n",
              "50%      2.950000e+05\n",
              "75%      4.439875e+05\n",
              "max      2.539000e+06\n",
              "Name: Column1, dtype: float64"
            ]
          },
          "metadata": {},
          "execution_count": 111
        }
      ]
    },
    {
      "cell_type": "markdown",
      "source": [
        "# Visualization"
      ],
      "metadata": {
        "id": "qlhMpvK5hl0Y"
      }
    },
    {
      "cell_type": "markdown",
      "source": [
        "Scatterplot (using Pandas native API)\n"
      ],
      "metadata": {
        "id": "JfwBw4dNhsMb"
      }
    },
    {
      "cell_type": "code",
      "source": [
        "#df_github[\"Column1\"].hist()\n",
        "df_github.plot.scatter(x=\"LocalRatings.scores.local_amenities\", y=\"Column1\");"
      ],
      "metadata": {
        "colab": {
          "base_uri": "https://localhost:8080/",
          "height": 465
        },
        "id": "xf6B22TPhuTi",
        "outputId": "ad6ac960-b45d-48e1-e875-9782b18c6fce"
      },
      "execution_count": 110,
      "outputs": [
        {
          "output_type": "display_data",
          "data": {
            "text/plain": [
              "<Figure size 640x480 with 1 Axes>"
            ],
            "image/png": "[encoded data removed]"
          },
          "metadata": {}
        }
      ]
    },
    {
      "cell_type": "code",
      "source": [
        "Dot Plot (using Altair native API)"
      ],
      "metadata": {
        "id": "_03jWf_CNhzV"
      },
      "execution_count": null,
      "outputs": []
    }
  ],
  "metadata": {
    "kernelspec": {
      "display_name": "Python 3.9.12 ('base')",
      "language": "python",
      "name": "python3"
    },
    "language_info": {
      "name": "python",
      "version": "3.9.12"
    },
    "orig_nbformat": 4,
    "vscode": {
      "interpreter": {
        "hash": "463226f144cc21b006ce6927bfc93dd00694e52c8bc6857abb6e555b983749e9"
      }
    },
    "colab": {
      "provenance": []
    }
  },
  "nbformat": 4,
  "nbformat_minor": 0
}