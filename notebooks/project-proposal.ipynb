{
  "cells": [
    {
      "cell_type": "markdown",
      "metadata": {
        "id": "Q5NLVrM3bSXD"
      },
      "source": [
        "# Project proposal\n",
        "\n",
        "---\n",
        "\n",
        "Group name:\n",
        "\n",
        "---\n"
      ]
    },
    {
      "cell_type": "markdown",
      "metadata": {
        "id": "kzwelmWVbSXE"
      },
      "source": [
        "## Introduction\n",
        "\n",
        "The introduction section includes\n",
        "\n",
        "-   an introduction to the subject matter you're investigating\n",
        "-   the motivation for your research question (citing any relevant literature)\n",
        "-   the general research question you wish to explore\n",
        "-   your hypotheses regarding the research question of interest."
      ]
    },
    {
      "cell_type": "markdown",
      "metadata": {
        "id": "HmEHtpyibSXE"
      },
      "source": [
        "\n",
        "## Data description\n",
        "\n",
        "In this section, you will describe the data set you wish to explore. This includes\n",
        "\n",
        "-   description of the observations in the data set,\n",
        "-   description of how the data was originally collected (not how you found the data but how the original curator of the data collected it)."
      ]
    },
    {
      "cell_type": "markdown",
      "metadata": {
        "id": "c4rc1RytbSXF"
      },
      "source": [
        "\n",
        "## Analysis approach\n",
        "\n",
        "In this section, you will provide a brief overview of your analysis approach. This includes:\n",
        "\n",
        "-   Description of the response variable.\n",
        "-   Visualization and summary statistics for the response variable.\n",
        "-   List of variables that will be considered as predictors\n",
        "-   Your model type (what kind of model(s) will you use ... e.g. linear regression)"
      ]
    },
    {
      "cell_type": "markdown",
      "metadata": {
        "id": "m6WTTAytbSXF"
      },
      "source": [
        "## Data dictionary\n",
        "\n",
        "*Create a data dictionary for all the variables in your data set. You may fill out the data description table or create your own table with Pandas:*\n",
        "\n",
        "<br>\n",
        "\n",
        "\n",
        "| Name  |   Description\t| Role   \t| Type   \t|  Format \t|\n",
        "|---\t|---\t        |---    \t|---\t    |---\t|\n",
        "|   \t|   \t        |   \t    |   \t    |   \t|\n",
        "|   \t|   \t        |   \t    |   \t    |   \t|\n",
        "|   \t|   \t        |   \t    |   \t    |   \t|\n",
        "\n",
        "\n",
        "<br>\n",
        "\n",
        "- `Role`: response, predictor, ID (ID columns are not used in a model but can help to better understand the data)\n",
        "\n",
        "- `Type`: nominal, ordinal or numeric\n",
        "\n",
        "- `Format`: int, float, string, category, date or object"
      ]
    },
    {
      "cell_type": "markdown",
      "source": [
        "# Overiew of data"
      ],
      "metadata": {
        "id": "khuAsEDfbuAc"
      }
    },
    {
      "cell_type": "markdown",
      "source": [
        "Import data from GitHub"
      ],
      "metadata": {
        "id": "uABYDbxScA3D"
      }
    },
    {
      "cell_type": "code",
      "source": [
        "#| code-line-numbers: '|1|3|5|'\n",
        "URL = \"https://raw.githubusercontent.com/paulovfc/supermarket_get/master/dataset_gruppe_A_csv.csv\"\n",
        "\n",
        "df_github = pd.read_csv(URL, sep=\";\", decimal='.', encoding_errors='ignore')\n",
        "\n",
        "df_github.head()"
      ],
      "metadata": {
        "id": "G6i1KSc2cWh4"
      },
      "execution_count": null,
      "outputs": []
    },
    {
      "cell_type": "markdown",
      "source": [
        "Data overview"
      ],
      "metadata": {
        "id": "nu7J4eP0cEug"
      }
    },
    {
      "cell_type": "code",
      "source": [
        "df_github"
      ],
      "metadata": {
        "id": "wgenyw7zccI0"
      },
      "execution_count": null,
      "outputs": []
    },
    {
      "cell_type": "markdown",
      "source": [
        "Info"
      ],
      "metadata": {
        "id": "lLEQpiHJcHy6"
      }
    },
    {
      "cell_type": "code",
      "source": [
        "df_github.info()"
      ],
      "metadata": {
        "id": "XMNWsWTSciEo"
      },
      "execution_count": null,
      "outputs": []
    },
    {
      "cell_type": "markdown",
      "source": [
        "Show column names"
      ],
      "metadata": {
        "id": "aS9dpiG2cMVh"
      }
    },
    {
      "cell_type": "code",
      "source": [
        "df_github.columns"
      ],
      "metadata": {
        "colab": {
          "base_uri": "https://localhost:8080/"
        },
        "id": "UJbYF6qTcr_R",
        "outputId": "c0ffa90a-c3a2-4d0a-ff64-cb6e7439cc8b"
      },
      "execution_count": 43,
      "outputs": [
        {
          "output_type": "execute_result",
          "data": {
            "text/plain": [
              "Index(['General.EstateTypeKey', 'General.ReferenceNumber',\n",
              "       'General.DistributionTypeKey', 'General.ConstructionYear',\n",
              "       'General.LivingSpace', 'Tealium.object_locationid',\n",
              "       'Tealium.object_address_is_visible', 'Tealium.object_zip',\n",
              "       'Tealium.object_currency', 'Tealium.object_features',\n",
              "       'Tealium.object_objektart_sub', 'Tealium.expose_type',\n",
              "       'Tealium.broker_guid', 'Tealium.object_count_photos',\n",
              "       'LocalRatings.scores.local_amenities', 'LocalRatings.scores.mobility',\n",
              "       'MetaBadges', 'Price.AdditionalInformation.Commission.CommissionType',\n",
              "       'EstateAddress.City', 'EstateAddress.ZipCode', 'EstateAddress.Street',\n",
              "       'Offerer.addressGuid', 'Offerer.globalUserId',\n",
              "       'Offerer.contactData.companyName', 'Project.Address.PostCode',\n",
              "       'Project.Address.Street', 'Project.Address.HouseNumber', 'Latitude',\n",
              "       'Longitude', 'Stadtteil', 'Stadt', 'PRICE', 'Column1', 'ROOMS',\n",
              "       'PRICE_COMMONCHARGE', 'EnergyType', 'Class', 'Value', 'CATEGORY',\n",
              "       'FLOOR', 'USAGE', 'SUITABILITY', 'CONDITION', 'HOUSECONDITION',\n",
              "       'PARKINGSLOT', 'ENERGY', 'BUILDINGTYPE', 'HEATING', 'ELEVATOR',\n",
              "       'EQUIPMENTS'],\n",
              "      dtype='object')"
            ]
          },
          "metadata": {},
          "execution_count": 43
        }
      ]
    },
    {
      "cell_type": "markdown",
      "source": [
        "Show data types"
      ],
      "metadata": {
        "id": "JJ0pg51rcPC1"
      }
    },
    {
      "cell_type": "code",
      "source": [
        "df_github.dtypes"
      ],
      "metadata": {
        "id": "0fI5XuEGczUP"
      },
      "execution_count": null,
      "outputs": []
    },
    {
      "cell_type": "markdown",
      "source": [
        "# Summary statistics for response variable: \"Column1\"\n",
        "Info: \"Column1\" is a clone of \"PRICE\""
      ],
      "metadata": {
        "id": "xcFTnMLIb5Y_"
      }
    },
    {
      "cell_type": "markdown",
      "source": [
        "List property prices"
      ],
      "metadata": {
        "id": "aq7bAl0UgASn"
      }
    },
    {
      "cell_type": "code",
      "source": [
        "df_github[\"Column1\"]"
      ],
      "metadata": {
        "colab": {
          "base_uri": "https://localhost:8080/"
        },
        "id": "T4AbsLB9gDEi",
        "outputId": "2590e6d0-0e3e-4a0a-ac92-31555fb3f5b6"
      },
      "execution_count": 39,
      "outputs": [
        {
          "output_type": "execute_result",
          "data": {
            "text/plain": [
              "0      2539000.0\n",
              "1       225000.0\n",
              "2       195000.0\n",
              "3       483623.0\n",
              "4       433956.0\n",
              "         ...    \n",
              "956     909000.0\n",
              "957     819000.0\n",
              "958     295000.0\n",
              "959     198000.0\n",
              "960     729000.0\n",
              "Name: Column1, Length: 961, dtype: float64"
            ]
          },
          "metadata": {},
          "execution_count": 39
        }
      ]
    },
    {
      "cell_type": "markdown",
      "source": [
        "Maximum property price"
      ],
      "metadata": {
        "id": "5pbEb9p5kPn9"
      }
    },
    {
      "cell_type": "code",
      "source": [
        "print(df_github[\"Column1\"].max())\n",
        "\n",
        "print(df_github[\"Column1\"].idxmax())"
      ],
      "metadata": {
        "id": "tGvHltXWkUfH",
        "outputId": "e4c8a1c6-b32b-4b83-a619-9f2fa5d91bc3",
        "colab": {
          "base_uri": "https://localhost:8080/"
        }
      },
      "execution_count": 73,
      "outputs": [
        {
          "output_type": "stream",
          "name": "stdout",
          "text": [
            "100000000.0\n",
            "781\n"
          ]
        }
      ]
    },
    {
      "cell_type": "markdown",
      "source": [
        "Minimum property price"
      ],
      "metadata": {
        "id": "RO0TMyr-kVC2"
      }
    },
    {
      "cell_type": "code",
      "source": [
        "print(df_github[\"Column1\"].min())\n",
        "\n",
        "print(df_github[\"Column1\"].idxmin())"
      ],
      "metadata": {
        "id": "5RdnHNdPkYTd",
        "outputId": "cc5cb3df-4aa7-4a0c-9c27-2eb23e1aaaef",
        "colab": {
          "base_uri": "https://localhost:8080/"
        }
      },
      "execution_count": 75,
      "outputs": [
        {
          "output_type": "stream",
          "name": "stdout",
          "text": [
            "74000.0\n",
            "803\n"
          ]
        }
      ]
    },
    {
      "cell_type": "markdown",
      "source": [
        "Mean"
      ],
      "metadata": {
        "id": "AGjPDReudYBH"
      }
    },
    {
      "cell_type": "code",
      "source": [
        "df_github[\"Column1\"].mean()"
      ],
      "metadata": {
        "colab": {
          "base_uri": "https://localhost:8080/"
        },
        "id": "h8GROtBedkaf",
        "outputId": "401fc04f-18db-4cc1-bb7e-c9c417cd740c"
      },
      "execution_count": 35,
      "outputs": [
        {
          "output_type": "execute_result",
          "data": {
            "text/plain": [
              "460907.3054110302"
            ]
          },
          "metadata": {},
          "execution_count": 35
        }
      ]
    },
    {
      "cell_type": "markdown",
      "source": [
        "Median"
      ],
      "metadata": {
        "id": "2M0CwbI9dZMD"
      }
    },
    {
      "cell_type": "code",
      "source": [
        "df_github[\"Column1\"].median()"
      ],
      "metadata": {
        "colab": {
          "base_uri": "https://localhost:8080/"
        },
        "id": "GudeVGJsd76e",
        "outputId": "32c41397-45a5-425f-9b2e-f009096d0171"
      },
      "execution_count": 36,
      "outputs": [
        {
          "output_type": "execute_result",
          "data": {
            "text/plain": [
              "295000.0"
            ]
          },
          "metadata": {},
          "execution_count": 36
        }
      ]
    },
    {
      "cell_type": "markdown",
      "source": [
        "Variance"
      ],
      "metadata": {
        "id": "8xZcG9yidawT"
      }
    },
    {
      "cell_type": "code",
      "source": [
        "df_github[\"Column1\"].var()"
      ],
      "metadata": {
        "colab": {
          "base_uri": "https://localhost:8080/"
        },
        "id": "2Z3TfG3kd-sm",
        "outputId": "21fd20ed-7a5e-40f7-9a2b-7bdecd50fd0f"
      },
      "execution_count": 41,
      "outputs": [
        {
          "output_type": "execute_result",
          "data": {
            "text/plain": [
              "10385112324652.906"
            ]
          },
          "metadata": {},
          "execution_count": 41
        }
      ]
    },
    {
      "cell_type": "markdown",
      "source": [
        "IQR"
      ],
      "metadata": {
        "id": "lTUjC_Xcdb3o"
      }
    },
    {
      "cell_type": "code",
      "source": [
        "test"
      ],
      "metadata": {
        "id": "6ejsQpAAhlDT"
      },
      "execution_count": null,
      "outputs": []
    },
    {
      "cell_type": "markdown",
      "source": [
        "# Visualization"
      ],
      "metadata": {
        "id": "qlhMpvK5hl0Y"
      }
    },
    {
      "cell_type": "markdown",
      "source": [
        "Histogram"
      ],
      "metadata": {
        "id": "JfwBw4dNhsMb"
      }
    },
    {
      "cell_type": "code",
      "source": [
        "#df_github[\"Column1\"].hist()\n",
        "df_github.plot.scatter(y=\"LocalRatings.scores.local_amenities\", x=\"Column1\");"
      ],
      "metadata": {
        "id": "xf6B22TPhuTi",
        "outputId": "8809997d-140e-4851-d2b0-bf70a89724e9",
        "colab": {
          "base_uri": "https://localhost:8080/",
          "height": 449
        }
      },
      "execution_count": 47,
      "outputs": [
        {
          "output_type": "display_data",
          "data": {
            "text/plain": [
              "<Figure size 640x480 with 1 Axes>"
            ],
            "image/png": "[encoded data removed]"
          },
          "metadata": {}
        }
      ]
    }
  ],
  "metadata": {
    "kernelspec": {
      "display_name": "Python 3.9.12 ('base')",
      "language": "python",
      "name": "python3"
    },
    "language_info": {
      "name": "python",
      "version": "3.9.12"
    },
    "orig_nbformat": 4,
    "vscode": {
      "interpreter": {
        "hash": "463226f144cc21b006ce6927bfc93dd00694e52c8bc6857abb6e555b983749e9"
      }
    },
    "colab": {
      "provenance": []
    }
  },
  "nbformat": 4,
  "nbformat_minor": 0
}